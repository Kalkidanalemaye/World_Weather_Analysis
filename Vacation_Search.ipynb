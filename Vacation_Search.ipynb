{
 "cells": [
  {
   "cell_type": "code",
   "execution_count": 2,
   "metadata": {},
   "outputs": [],
   "source": [
    "import gmaps\n",
    "import pandas as pd\n",
    "import requests\n",
    "from config import g_key\n",
    "import matplotlib.pyplot as plt"
   ]
  },
  {
   "cell_type": "code",
   "execution_count": 4,
   "metadata": {},
   "outputs": [],
   "source": [
    "weather_data=pd.read_csv(\"Data/weatherpy_challenge.csv\")\n",
    "gmaps.configure(api_key=g_key)"
   ]
  },
  {
   "cell_type": "code",
   "execution_count": 5,
   "metadata": {},
   "outputs": [
    {
     "name": "stdout",
     "output_type": "stream",
     "text": [
      "What is the minimum temperature you would like for your trip? 5\n",
      "What is the maximum temperature you would like for your trip? 90\n",
      "Do you want it to be raining? (yes/no) n\n",
      "Do you want it to be snowing? (yes/no) no\n"
     ]
    }
   ],
   "source": [
    "# Ask the customer to add a minimum and maximum temperature value.\n",
    "mintemp = float(input(\"What is the minimum temperature you would like for your trip? \"))\n",
    "maxtemp = float(input(\"What is the maximum temperature you would like for your trip? \"))\n",
    "rain = input(\"Do you want it to be raining? (yes/no) \")\n",
    "snow = input(\"Do you want it to be snowing? (yes/no) \")"
   ]
  },
  {
   "cell_type": "code",
   "execution_count": 6,
   "metadata": {},
   "outputs": [],
   "source": [
    "# Filter the dataset to find the cities that fit the criteria.\n",
    "preferred_temp_df = weather_data.loc[(weather_data[\"Max Temp\"] <= maxtemp) & (weather_data[\"Max Temp\"] >= mintemp)]\n",
    "if rain == 'yes':\n",
    "    preferred_precipitation= preferred_temp_df.loc[(preferred_temp_df['Rainfall']>0.)]\n",
    "else:\n",
    "    preferred_precipitation= preferred_temp_df.loc[(preferred_temp_df['Rainfall']==0.)]\n",
    "if snow == 'yes':\n",
    "    preferred_cities=preferred_precipitation.loc[preferred_precipitation['Snowfall']>0.]\n",
    "else:\n",
    "    preferred_cities=preferred_precipitation.loc[preferred_precipitation['Snowfall']==0.]"
   ]
  },
  {
   "cell_type": "code",
   "execution_count": 7,
   "metadata": {},
   "outputs": [
    {
     "data": {
      "text/plain": [
       "490"
      ]
     },
     "execution_count": 7,
     "metadata": {},
     "output_type": "execute_result"
    }
   ],
   "source": [
    "len(preferred_cities)"
   ]
  },
  {
   "cell_type": "code",
   "execution_count": 8,
   "metadata": {},
   "outputs": [
    {
     "data": {
      "text/html": [
       "<div>\n",
       "<style scoped>\n",
       "    .dataframe tbody tr th:only-of-type {\n",
       "        vertical-align: middle;\n",
       "    }\n",
       "\n",
       "    .dataframe tbody tr th {\n",
       "        vertical-align: top;\n",
       "    }\n",
       "\n",
       "    .dataframe thead th {\n",
       "        text-align: right;\n",
       "    }\n",
       "</style>\n",
       "<table border=\"1\" class=\"dataframe\">\n",
       "  <thead>\n",
       "    <tr style=\"text-align: right;\">\n",
       "      <th></th>\n",
       "      <th>City</th>\n",
       "      <th>Country</th>\n",
       "      <th>Current Conditions</th>\n",
       "      <th>Lat</th>\n",
       "      <th>Lng</th>\n",
       "      <th>Max Temp</th>\n",
       "      <th>Hotel Name</th>\n",
       "    </tr>\n",
       "  </thead>\n",
       "  <tbody>\n",
       "    <tr>\n",
       "      <th>0</th>\n",
       "      <td>Cape Town</td>\n",
       "      <td>ZA</td>\n",
       "      <td>broken clouds</td>\n",
       "      <td>-33.93</td>\n",
       "      <td>18.42</td>\n",
       "      <td>55.99</td>\n",
       "      <td></td>\n",
       "    </tr>\n",
       "    <tr>\n",
       "      <th>2</th>\n",
       "      <td>Ushuaia</td>\n",
       "      <td>AR</td>\n",
       "      <td>broken clouds</td>\n",
       "      <td>-54.80</td>\n",
       "      <td>-68.30</td>\n",
       "      <td>50.00</td>\n",
       "      <td></td>\n",
       "    </tr>\n",
       "    <tr>\n",
       "      <th>3</th>\n",
       "      <td>Hamirpur</td>\n",
       "      <td>IN</td>\n",
       "      <td>clear sky</td>\n",
       "      <td>25.95</td>\n",
       "      <td>80.15</td>\n",
       "      <td>75.90</td>\n",
       "      <td></td>\n",
       "    </tr>\n",
       "    <tr>\n",
       "      <th>4</th>\n",
       "      <td>Port Alfred</td>\n",
       "      <td>ZA</td>\n",
       "      <td>scattered clouds</td>\n",
       "      <td>-33.59</td>\n",
       "      <td>26.89</td>\n",
       "      <td>59.83</td>\n",
       "      <td></td>\n",
       "    </tr>\n",
       "    <tr>\n",
       "      <th>5</th>\n",
       "      <td>Jalu</td>\n",
       "      <td>LY</td>\n",
       "      <td>clear sky</td>\n",
       "      <td>29.03</td>\n",
       "      <td>21.55</td>\n",
       "      <td>56.80</td>\n",
       "      <td></td>\n",
       "    </tr>\n",
       "    <tr>\n",
       "      <th>6</th>\n",
       "      <td>Grasse</td>\n",
       "      <td>FR</td>\n",
       "      <td>clear sky</td>\n",
       "      <td>43.67</td>\n",
       "      <td>6.92</td>\n",
       "      <td>59.00</td>\n",
       "      <td></td>\n",
       "    </tr>\n",
       "    <tr>\n",
       "      <th>7</th>\n",
       "      <td>Sept-Iles</td>\n",
       "      <td>CA</td>\n",
       "      <td>broken clouds</td>\n",
       "      <td>50.20</td>\n",
       "      <td>-66.38</td>\n",
       "      <td>41.00</td>\n",
       "      <td></td>\n",
       "    </tr>\n",
       "    <tr>\n",
       "      <th>8</th>\n",
       "      <td>Longyearbyen</td>\n",
       "      <td>SJ</td>\n",
       "      <td>broken clouds</td>\n",
       "      <td>78.22</td>\n",
       "      <td>15.64</td>\n",
       "      <td>14.00</td>\n",
       "      <td></td>\n",
       "    </tr>\n",
       "    <tr>\n",
       "      <th>9</th>\n",
       "      <td>Plettenberg Bay</td>\n",
       "      <td>ZA</td>\n",
       "      <td>broken clouds</td>\n",
       "      <td>-34.05</td>\n",
       "      <td>23.37</td>\n",
       "      <td>54.93</td>\n",
       "      <td></td>\n",
       "    </tr>\n",
       "    <tr>\n",
       "      <th>11</th>\n",
       "      <td>Jamestown</td>\n",
       "      <td>US</td>\n",
       "      <td>broken clouds</td>\n",
       "      <td>42.10</td>\n",
       "      <td>-79.24</td>\n",
       "      <td>52.00</td>\n",
       "      <td></td>\n",
       "    </tr>\n",
       "  </tbody>\n",
       "</table>\n",
       "</div>"
      ],
      "text/plain": [
       "               City Country Current Conditions    Lat    Lng  Max Temp  \\\n",
       "0         Cape Town      ZA      broken clouds -33.93  18.42     55.99   \n",
       "2           Ushuaia      AR      broken clouds -54.80 -68.30     50.00   \n",
       "3          Hamirpur      IN          clear sky  25.95  80.15     75.90   \n",
       "4       Port Alfred      ZA   scattered clouds -33.59  26.89     59.83   \n",
       "5              Jalu      LY          clear sky  29.03  21.55     56.80   \n",
       "6            Grasse      FR          clear sky  43.67   6.92     59.00   \n",
       "7         Sept-Iles      CA      broken clouds  50.20 -66.38     41.00   \n",
       "8      Longyearbyen      SJ      broken clouds  78.22  15.64     14.00   \n",
       "9   Plettenberg Bay      ZA      broken clouds -34.05  23.37     54.93   \n",
       "11        Jamestown      US      broken clouds  42.10 -79.24     52.00   \n",
       "\n",
       "   Hotel Name  \n",
       "0              \n",
       "2              \n",
       "3              \n",
       "4              \n",
       "5              \n",
       "6              \n",
       "7              \n",
       "8              \n",
       "9              \n",
       "11             "
      ]
     },
     "execution_count": 8,
     "metadata": {},
     "output_type": "execute_result"
    }
   ],
   "source": [
    "# Create DataFrame called hotel_df to store hotel names along with city, country, max temp, and coordinates.\n",
    "hotel_df = preferred_cities[[\"City\", \"Country\", \"Current Conditions\", \"Lat\", \"Lng\",\"Max Temp\"]].copy()\n",
    "hotel_df[\"Hotel Name\"] = \"\"\n",
    "hotel_df.head(10)"
   ]
  },
  {
   "cell_type": "code",
   "execution_count": 10,
   "metadata": {},
   "outputs": [
    {
     "name": "stdout",
     "output_type": "stream",
     "text": [
      "Hotel not found... skipping.\n",
      "Hotel not found... skipping.\n",
      "Hotel not found... skipping.\n",
      "Hotel not found... skipping.\n",
      "Hotel not found... skipping.\n",
      "Hotel not found... skipping.\n",
      "Hotel not found... skipping.\n",
      "Hotel not found... skipping.\n",
      "Hotel not found... skipping.\n",
      "Hotel not found... skipping.\n",
      "Hotel not found... skipping.\n",
      "Hotel not found... skipping.\n",
      "Hotel not found... skipping.\n",
      "Hotel not found... skipping.\n",
      "Hotel not found... skipping.\n",
      "Hotel not found... skipping.\n",
      "Hotel not found... skipping.\n",
      "Hotel not found... skipping.\n",
      "Hotel not found... skipping.\n",
      "Hotel not found... skipping.\n",
      "Hotel not found... skipping.\n",
      "Hotel not found... skipping.\n",
      "Hotel not found... skipping.\n",
      "Hotel not found... skipping.\n",
      "Hotel not found... skipping.\n",
      "Hotel not found... skipping.\n",
      "Hotel not found... skipping.\n",
      "Hotel not found... skipping.\n",
      "Hotel not found... skipping.\n",
      "Hotel not found... skipping.\n",
      "Hotel not found... skipping.\n",
      "Hotel not found... skipping.\n",
      "Hotel not found... skipping.\n",
      "Hotel not found... skipping.\n",
      "Hotel not found... skipping.\n",
      "Hotel not found... skipping.\n",
      "Hotel not found... skipping.\n",
      "Hotel not found... skipping.\n",
      "Hotel not found... skipping.\n",
      "Hotel not found... skipping.\n",
      "Hotel not found... skipping.\n",
      "Hotel not found... skipping.\n",
      "Hotel not found... skipping.\n",
      "Hotel not found... skipping.\n",
      "Hotel not found... skipping.\n",
      "Hotel not found... skipping.\n",
      "Hotel not found... skipping.\n",
      "Hotel not found... skipping.\n",
      "Hotel not found... skipping.\n",
      "Hotel not found... skipping.\n",
      "Hotel not found... skipping.\n",
      "Hotel not found... skipping.\n",
      "Hotel not found... skipping.\n",
      "Hotel not found... skipping.\n",
      "Hotel not found... skipping.\n",
      "Hotel not found... skipping.\n",
      "Hotel not found... skipping.\n",
      "Hotel not found... skipping.\n",
      "Hotel not found... skipping.\n",
      "Hotel not found... skipping.\n",
      "Hotel not found... skipping.\n"
     ]
    }
   ],
   "source": [
    "params = {\n",
    "    \"radius\": 5000,\n",
    "    \"types\": \"lodging\",\n",
    "    \"key\": g_key,\n",
    "    \"location\": \" \"}\n",
    "# Iterate through the DataFrame.\n",
    "for index, row in hotel_df.iterrows():\n",
    "    # Get the latitude and longitude.\n",
    "    lat = row[\"Lat\"]\n",
    "    lng = row[\"Lng\"]\n",
    "\n",
    "    # Add the latitude and longitude to location key for the params dictionary.\n",
    "    params[\"location\"] = f\"{lat},{lng}\"\n",
    "\n",
    "    # Use the search term: \"lodging\" and our latitude and longitude.\n",
    "    base_url = \"https://maps.googleapis.com/maps/api/place/nearbysearch/json\"\n",
    "    # Make request and get the JSON data from the search.\n",
    "    hotels = requests.get(base_url, params=params).json()\n",
    "    \n",
    "# Grab the first hotel from the results and store the name.\n",
    "    try:\n",
    "        hotel_df.loc[index, \"Hotel Name\"] = hotels[\"results\"][0][\"name\"]\n",
    "        #print ('Found')\n",
    "    except (IndexError):\n",
    "        print(\"Hotel not found... skipping.\")"
   ]
  },
  {
   "cell_type": "code",
   "execution_count": 11,
   "metadata": {},
   "outputs": [],
   "source": [
    "hotel_df.to_csv(\"Data/WeatherPy_vacation.csv\", index_label=\"City_ID\")"
   ]
  },
  {
   "cell_type": "code",
   "execution_count": 12,
   "metadata": {},
   "outputs": [],
   "source": [
    "info_box_template = '''\n",
    "<dl>\n",
    "<dt>Hotel Name</dt><dd>{Hotel Name}</dd>\n",
    "<dt>City</dt><dd>{City}</dd>\n",
    "<dt>Country</dt><dd>{Country}</dd>\n",
    "<dt>Current Weather</dt><dd>{Current Conditions} and {Max Temp} °F</dd>\n",
    "</dl>\n",
    "'''\n",
    "# Store the DataFrame Row.\n",
    "hotel_info = [info_box_template.format(**row) for index, row in hotel_df.iterrows()]"
   ]
  },
  {
   "cell_type": "code",
   "execution_count": 13,
   "metadata": {},
   "outputs": [
    {
     "data": {
      "application/vnd.jupyter.widget-view+json": {
       "model_id": "5daa30777fd94e7b90781a2a7a07ad40",
       "version_major": 2,
       "version_minor": 0
      },
      "text/plain": [
       "Figure(layout=FigureLayout(height='420px'))"
      ]
     },
     "metadata": {},
     "output_type": "display_data"
    }
   ],
   "source": [
    "\n",
    "# Add marker for each city.\n",
    "locations = hotel_df[[\"Lat\", \"Lng\"]]\n",
    "fig = gmaps.figure(center=(30.0, 31.0), zoom_level=1.5)\n",
    "marker_layer = gmaps.marker_layer(locations, info_box_content=hotel_info)\n",
    "fig.add_layer(marker_layer)\n",
    "# Call the figure to plot the data.\n",
    "fig"
   ]
  },
  {
   "cell_type": "code",
   "execution_count": null,
   "metadata": {},
   "outputs": [],
   "source": []
  }
 ],
 "metadata": {
  "kernelspec": {
   "display_name": "PythonData",
   "language": "python",
   "name": "pythondata"
  },
  "language_info": {
   "codemirror_mode": {
    "name": "ipython",
    "version": 3
   },
   "file_extension": ".py",
   "mimetype": "text/x-python",
   "name": "python",
   "nbconvert_exporter": "python",
   "pygments_lexer": "ipython3",
   "version": "3.7.4"
  }
 },
 "nbformat": 4,
 "nbformat_minor": 4
}
